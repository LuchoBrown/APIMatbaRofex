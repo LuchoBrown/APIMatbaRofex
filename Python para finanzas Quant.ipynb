{
  "nbformat": 4,
  "nbformat_minor": 0,
  "metadata": {
    "colab": {
      "provenance": [],
      "authorship_tag": "ABX9TyN+HLh69aNenS0XHMB2TlMr",
      "include_colab_link": true
    },
    "kernelspec": {
      "name": "python3",
      "display_name": "Python 3"
    },
    "language_info": {
      "name": "python"
    }
  },
  "cells": [
    {
      "cell_type": "markdown",
      "metadata": {
        "id": "view-in-github",
        "colab_type": "text"
      },
      "source": [
        "<a href=\"https://colab.research.google.com/github/LuchoBrown/APIMatbaRofex/blob/main/Python%20para%20finanzas%20Quant.ipynb\" target=\"_parent\"><img src=\"https://colab.research.google.com/assets/colab-badge.svg\" alt=\"Open In Colab\"/></a>"
      ]
    },
    {
      "cell_type": "markdown",
      "source": [
        "PRIMEROS SCRIPTS [0]\n",
        "\n",
        "Variables: son valores que se guardan en la memoria del programa, para ser utilizadas durante su ejecucion.\n",
        "\n",
        "En Python, las variables se pueden sobreescribir\n"
      ],
      "metadata": {
        "id": "kubPNSQfhGRR"
      }
    },
    {
      "cell_type": "code",
      "source": [
        "mi_variable = \"Python para Finanzas\"\n",
        "\n",
        "print(mi_variable)\n",
        "\n"
      ],
      "metadata": {
        "id": "79KHyYWVh7lZ",
        "outputId": "fe7114a2-a518-404d-d0f1-0607f0e3c081",
        "colab": {
          "base_uri": "https://localhost:8080/"
        }
      },
      "execution_count": 1,
      "outputs": [
        {
          "output_type": "stream",
          "name": "stdout",
          "text": [
            "Python para Finanzas\n"
          ]
        }
      ]
    },
    {
      "cell_type": "code",
      "source": [
        "mi_variable = \"Python para Finanzas Quant\"\n",
        "\n",
        "print(mi_variable)"
      ],
      "metadata": {
        "id": "7lSNrXLAiktK",
        "outputId": "7ce8c3a7-81f9-47d4-aac4-c68c90e0c497",
        "colab": {
          "base_uri": "https://localhost:8080/"
        }
      },
      "execution_count": 3,
      "outputs": [
        {
          "output_type": "stream",
          "name": "stdout",
          "text": [
            "Python para Finanzas Quant\n"
          ]
        }
      ]
    },
    {
      "cell_type": "markdown",
      "source": [],
      "metadata": {
        "id": "JMsqQUGEivp3"
      }
    },
    {
      "cell_type": "code",
      "source": [
        "ggal = 2000\n",
        "print(ggal)\n",
        "ggal = 2020\n",
        "print(ggal)"
      ],
      "metadata": {
        "id": "02VlF9i0ivwz",
        "outputId": "bcd4d49c-202d-4bcf-d046-666e0f874f09",
        "colab": {
          "base_uri": "https://localhost:8080/"
        }
      },
      "execution_count": 4,
      "outputs": [
        {
          "output_type": "stream",
          "name": "stdout",
          "text": [
            "2000\n",
            "2020\n"
          ]
        }
      ]
    },
    {
      "cell_type": "markdown",
      "source": [
        "Asignacion de variables por consola - Funcion Input\n",
        "La utilizamos cuando tenemos que pedirle informacion al usuario, mediante la funcion input()"
      ],
      "metadata": {
        "id": "fQgir-Lqi4fK"
      }
    },
    {
      "cell_type": "code",
      "source": [
        "StopLoss = input(\"Ingresa tu limite de perdida: \")\n",
        "print(\"Tu StopLoss es: $\", StopLoss)"
      ],
      "metadata": {
        "id": "DXzvhQUyjGnh",
        "outputId": "079473ee-2a28-4903-a668-2c626d964cfe",
        "colab": {
          "base_uri": "https://localhost:8080/"
        }
      },
      "execution_count": 8,
      "outputs": [
        {
          "output_type": "stream",
          "name": "stdout",
          "text": [
            "Ingresa tu limite de perdida: 2100\n",
            "Tu StopLoss es: $ 2100\n"
          ]
        }
      ]
    },
    {
      "cell_type": "markdown",
      "source": [
        "En el ejemplo anterior a la funcion print() le pasamos 2 argumentos: primero un string con el mensaje que queremos mostrar, y luego la variable en donde tenemos el valor indicado por el usuario. Cuando tenemos mas de un argumento, los separamos con una COMA (,)\n",
        "\n",
        "\n",
        "Otra forma de obtener el mismo resultado, es concatenando la salida del print()\n"
      ],
      "metadata": {
        "id": "5Dg_ulMejfnF"
      }
    },
    {
      "cell_type": "code",
      "source": [
        "StopLoss = input(\"Ingresa tu limite de perdida: \")\n",
        "print(\"Tu StopLoss es: $ \"+ StopLoss)"
      ],
      "metadata": {
        "id": "RQDukIOXkU6z",
        "outputId": "57db1d7c-1b9c-4660-e57c-54034095b82f",
        "colab": {
          "base_uri": "https://localhost:8080/"
        }
      },
      "execution_count": 9,
      "outputs": [
        {
          "output_type": "stream",
          "name": "stdout",
          "text": [
            "Ingresa tu limite de perdida: 2100\n",
            "Tu StopLoss es: $ 2100\n"
          ]
        }
      ]
    },
    {
      "cell_type": "markdown",
      "source": [
        "Ahora vemos una tercera manera de concatenar un texto:\n"
      ],
      "metadata": {
        "id": "s3dvJHRnkp-J"
      }
    },
    {
      "cell_type": "code",
      "source": [
        "StopLoss = input(\"Ingresa tu limite de perdida: \")\n",
        "print(f\"Tu StopLoss es: $ {StopLoss}\")"
      ],
      "metadata": {
        "id": "I9OZZDxVkuYr",
        "outputId": "6fe56992-862f-42d1-eaf2-576fa513e3e0",
        "colab": {
          "base_uri": "https://localhost:8080/"
        }
      },
      "execution_count": 11,
      "outputs": [
        {
          "output_type": "stream",
          "name": "stdout",
          "text": [
            "Ingresa tu limite de perdida: 2100\n",
            "Tu StopLoss es: $ 2100\n"
          ]
        }
      ]
    },
    {
      "cell_type": "markdown",
      "source": [
        "Tipos de datos\n",
        "\n",
        "Int() = Numeros enteros\n",
        "Float() = Numeros con decimales\n",
        "Booleans() = Verdadero o falso\n"
      ],
      "metadata": {
        "id": "JPEVHrLZlMZb"
      }
    },
    {
      "cell_type": "code",
      "source": [
        "a = 5\n",
        "type (a)\n",
        "#La funcion Type() nos indica el tipo de dato que contiene la variable."
      ],
      "metadata": {
        "id": "3otH_PbOnxOx",
        "outputId": "5cc26675-a2c5-41b5-eb4b-c564e3399a2d",
        "colab": {
          "base_uri": "https://localhost:8080/"
        }
      },
      "execution_count": 12,
      "outputs": [
        {
          "output_type": "execute_result",
          "data": {
            "text/plain": [
              "int"
            ]
          },
          "metadata": {},
          "execution_count": 12
        }
      ]
    },
    {
      "cell_type": "code",
      "source": [
        "a = 3.14\n",
        "type(a)"
      ],
      "metadata": {
        "id": "zX6Atfq1n7KO",
        "outputId": "8e43ad0d-bf86-40ea-8cb6-cf6b91617982",
        "colab": {
          "base_uri": "https://localhost:8080/"
        }
      },
      "execution_count": 13,
      "outputs": [
        {
          "output_type": "execute_result",
          "data": {
            "text/plain": [
              "float"
            ]
          },
          "metadata": {},
          "execution_count": 13
        }
      ]
    },
    {
      "cell_type": "code",
      "source": [
        "a = False\n",
        "# En este caso el False va sin comillas dado que NO se trata de un string.\n",
        "type(a)"
      ],
      "metadata": {
        "id": "GoKuUkCkn-aG",
        "outputId": "d32f5bac-0fc8-4b53-b8d5-332c7cb9c4be",
        "colab": {
          "base_uri": "https://localhost:8080/"
        }
      },
      "execution_count": 14,
      "outputs": [
        {
          "output_type": "execute_result",
          "data": {
            "text/plain": [
              "bool"
            ]
          },
          "metadata": {},
          "execution_count": 14
        }
      ]
    },
    {
      "cell_type": "markdown",
      "source": [
        "Python como lenguaje interpretado, de TIPADO DINAMICO\n",
        "\n",
        "que sea interpretado significa que el codigo que escribimos debe ser \"interpretado\" por un programa.\n",
        "\n",
        "Tienen un interprete que va \"traduciendo\" a lenguaje de maquina nuestro codigo.\n",
        "\n",
        "Lo DINAMICO del tipado significa que en el mismo programa, podemos asignarle distintos valores a una misma variable. La estamos sobreescribiendo.\n"
      ],
      "metadata": {
        "id": "CLNLaep_rx_Q"
      }
    },
    {
      "cell_type": "code",
      "source": [
        "a = \"GGAL\"\n",
        "print(type(a))\n",
        "a = 1000\n",
        "print(type(a))"
      ],
      "metadata": {
        "id": "JWZPSffTsVI8",
        "outputId": "88f95880-ed9b-4bd0-8733-a1182ef5461c",
        "colab": {
          "base_uri": "https://localhost:8080/"
        }
      },
      "execution_count": 15,
      "outputs": [
        {
          "output_type": "stream",
          "name": "stdout",
          "text": [
            "<class 'str'>\n",
            "<class 'int'>\n"
          ]
        }
      ]
    },
    {
      "cell_type": "markdown",
      "source": [
        "OPERACIONES BASICAS\n",
        "\n",
        "\n"
      ],
      "metadata": {
        "id": "aU5MiII5s-lo"
      }
    },
    {
      "cell_type": "code",
      "source": [
        "a = 6\n",
        "b = 3\n",
        "suma = a + b\n",
        "producto = a * b\n",
        "division = a/b\n",
        "mod = a%b\n",
        "potencia = a**b\n",
        "\n",
        "\n",
        "print(producto)\n",
        "print(division)\n",
        "print(mod)\n",
        "print(potencia)\n"
      ],
      "metadata": {
        "id": "1Jj5leTgtBnv",
        "outputId": "26fe8124-d2f2-4a75-bebf-006e77cbaa0a",
        "colab": {
          "base_uri": "https://localhost:8080/"
        }
      },
      "execution_count": 17,
      "outputs": [
        {
          "output_type": "stream",
          "name": "stdout",
          "text": [
            "18\n",
            "2.0\n",
            "0\n",
            "216\n"
          ]
        }
      ]
    },
    {
      "cell_type": "markdown",
      "source": [
        "METODOS BASICOS PARA TRABAJAR CON STRINGS\n"
      ],
      "metadata": {
        "id": "DAG6lDeftezW"
      }
    },
    {
      "cell_type": "code",
      "source": [
        "string = \"Bitcoin\"\n",
        "\n",
        "string.capitalize()\n",
        "# Pasa a mayuscula la primera letra.\n",
        "string.upper()\n",
        "#Pasa todas las letras a mayuscula\n",
        "string.lower()\n",
        "#Pasa todas letras a minuscula\n",
        "string.title()\n",
        "# Pasa las primeras letras de cada palabra a mayuscula.\n",
        "string.rfind(string_buscado)\n",
        "# Devuelve la ultima posicion donde aparece por primera vez el string buscado.\n",
        "string.find(string_buscado)\n",
        "# Devuelve la primera posicion donde aparece por primera vez el string buscado.\n",
        "string.replace(string_buscado, string_reemplazo)\n",
        "# Reemplaza string buscado.\n",
        "string.zfill(largo)\n",
        "# Rellena con ceros a la izquierda hasta completar el largo pasado como argumento.\n",
        "string.count(string_buscado)\n",
        "# Devuelve la cantidad de veces que aparece el string_buscado en la variable string.\n",
        "len(string)\n",
        "# Cuenta la cantidad de caracteres de la variable string.\n",
        "string.isalnum()\n",
        "# True si todos los caracteres son numericos\n",
        "string.isaldigit()\n",
        "#True si todos los carateres son digitos.\n",
        "string.isalalpha()\n",
        "# True si todos los caracteres son letras.\n"
      ],
      "metadata": {
        "id": "IGcyLYy-tm33",
        "outputId": "90a588cc-980c-491f-ef54-8591e4d3690f",
        "colab": {
          "base_uri": "https://localhost:8080/",
          "height": 35
        }
      },
      "execution_count": 19,
      "outputs": [
        {
          "output_type": "execute_result",
          "data": {
            "text/plain": [
              "'BITCOIN'"
            ],
            "application/vnd.google.colaboratory.intrinsic+json": {
              "type": "string"
            }
          },
          "metadata": {},
          "execution_count": 19
        }
      ]
    },
    {
      "cell_type": "markdown",
      "source": [],
      "metadata": {
        "id": "ODffohn1iW1m"
      }
    }
  ]
}